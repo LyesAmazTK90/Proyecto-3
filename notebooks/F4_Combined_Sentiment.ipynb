{
 "cells": [
  {
   "cell_type": "code",
   "execution_count": 2,
   "metadata": {},
   "outputs": [],
   "source": [
    "# emotion: [angry, disgust, fear, happy, neutral, sad, surprised]\n",
    "# text_sentiment: [positive, neutral, negative]"
   ]
  },
  {
   "cell_type": "code",
   "execution_count": 1,
   "metadata": {},
   "outputs": [],
   "source": [
    "# IMPLEMENTAR: Función que devuelve el SENTIMIENTO COMBINADO del usuario al pasarle la variable \"emotion\" del análisis de tono, y la variable \"text_sentiment\" del análisis del texto:\n",
    "def combined_sentiment(emotion, text_sentiment):\n",
    "    \n",
    "    # Se crea diccionario con las combinaciones de \"emotion\" y \"text_sentiment\":\n",
    "    combinations = {\n",
    "        (\"angry\", \"positive\"): \"sarcastic, most likely angry\",\n",
    "        (\"angry\", \"neutral\"): \"angry\",\n",
    "        (\"angry\", \"negative\"): \"angry\",\n",
    "        (\"disgust\", \"positive\"): \"ironic, most likely disgust\",\n",
    "        (\"disgust\", \"neutral\"): \"disgust\",\n",
    "        (\"disgust\", \"negative\"): \"disgust\",\n",
    "        (\"fear\", \"positive\"): \"surprise and likely fear\",\n",
    "        (\"fear\", \"neutral\"): \"fear\",\n",
    "        (\"fear\", \"negative\"): \"fear\",\n",
    "        (\"happy\", \"positive\"): \"happy\",\n",
    "        (\"happy\", \"neutral\"): \"happy\",\n",
    "        (\"happy\", \"negative\"): \"ironic, most likely happy\",\n",
    "        (\"neutral\", \"positive\"): \"neutral\",\n",
    "        (\"neutral\", \"neutral\"): \"neutral\",\n",
    "        (\"neutral\", \"negative\"): \"most likely neutral\",\n",
    "        (\"sad\", \"positive\"): \"disappointment, most likely sad\",\n",
    "        (\"sad\", \"neutral\"): \"sad\",\n",
    "        (\"sad\", \"negative\"): \"sad\",\n",
    "        (\"surprised\", \"positive\"): \"surprised\",\n",
    "        (\"surprised\", \"neutral\"): \"surprised\",\n",
    "        (\"surprised\", \"negative\"): \"Disbelief or disappointment and surprise\",\n",
    "    }\n",
    "    \n",
    "    # Devolvemos el sentimiento combinado correspondiente:\n",
    "    if (emotion, text_sentiment) in combinations:\n",
    "        return combinations[(emotion, text_sentiment)]\n",
    "    else:\n",
    "        # Se devuelve un mensaje predeterminado si la combinación no está especificada:\n",
    "        return f\"unknown combination:{emotion}, {text_sentiment}\""
   ]
  },
  {
   "cell_type": "code",
   "execution_count": 3,
   "metadata": {},
   "outputs": [
    {
     "name": "stdout",
     "output_type": "stream",
     "text": [
      "disappointment, most likely sad\n",
      "disgust\n",
      "surprised\n",
      "neutral\n"
     ]
    }
   ],
   "source": [
    "#IMPLEMENTAR: incorporar a la linea 167 del notebook frontend.py para crear la variable de género que se incorporará en el st.write de Streamlit:\n",
    "genre = tone.split(\"_\")[0]\n",
    "\n",
    "# emotion = \"sad\"              #NO IMPLEMENTAR: para probar la función combined_sentiment. \n",
    "# text_sentiment = \"positive\"  #NO IMPLEMENTAR: para probar la función combined_sentiment.\n",
    "\n",
    "#IMPLEMENTAR: lineas de código para frontend de Streamlit que te muestra el \"género\" y estado de ánimo combinado:\n",
    "comb_result = combined_sentiment(emotion,text_sentiment)\n",
    "        #Desde \"comb_result\" se llama al emoji respectivamente. Si el resultado es una combinación nueva, he incorporado 2 nuevos emojis en el folder que cubren todas las posibilidades:\n",
    "\n",
    "        # \"sarcastic, most likely angry\"  --> call new emoji sarcastic.png\n",
    "        # \"ironic, most likely disgust\" y \"ironic, most likely happy\"--> call new emoji sarcastic.png\n",
    "        # \"surprise and likely fear\" --> call existing emoji surprise.png\n",
    "        # \"most likely neutral\" --> call existing emoji neutral.png\n",
    "        # \"disappointment, most likely sad\" --> call new emoji dissapointment.png\n",
    "\n",
    "st.write(f\"{genre} {comb_result}\") \n",
    "\n",
    "\n",
    "#NO IMPLEMENTAR: probamos el codigo:\n",
    "# print(combined_sentiment(\"sad\", \"positive\"))\n",
    "# print(combined_sentiment(\"disgust\", \"neutral\"))\n",
    "# print(combined_sentiment(\"surprised\", \"positive\"))\n",
    "# print(combined_sentiment(\"neutral\", \"neutral\"))\n",
    "\n"
   ]
  },
  {
   "cell_type": "code",
   "execution_count": null,
   "metadata": {},
   "outputs": [],
   "source": []
  },
  {
   "cell_type": "code",
   "execution_count": null,
   "metadata": {},
   "outputs": [],
   "source": []
  }
 ],
 "metadata": {
  "kernelspec": {
   "display_name": "etlf",
   "language": "python",
   "name": "python3"
  },
  "language_info": {
   "codemirror_mode": {
    "name": "ipython",
    "version": 3
   },
   "file_extension": ".py",
   "mimetype": "text/x-python",
   "name": "python",
   "nbconvert_exporter": "python",
   "pygments_lexer": "ipython3",
   "version": "3.11.5"
  }
 },
 "nbformat": 4,
 "nbformat_minor": 2
}
